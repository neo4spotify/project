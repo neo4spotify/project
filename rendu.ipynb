{
 "cells": [
  {
   "cell_type": "markdown",
   "metadata": {},
   "source": [
    "# Rendu projet Neo4J"
   ]
  },
  {
   "cell_type": "markdown",
   "metadata": {},
   "source": [
    "## Introduction\n",
    "Ce travail a été réalisé par Baptiste Chezaubernard, Alix Ouedraogo et Alexis Aubrée.\n",
    "\n",
    "Nous avons choisi de rendre un notebook, car ce format nous permet de mélanger la documentation du travail réalisé avec du code et de la visualisation.\n",
    "Les requêtes sont présentes dans ce rapport et peuvent être utilisées indépendamment de ce support"
   ]
  },
  {
   "cell_type": "markdown",
   "metadata": {},
   "source": [
    "Ci dessous, nous importons l'ensemble des librairies et fonctions nécessaires au bon fonctionnement de ce notebook."
   ]
  },
  {
   "cell_type": "markdown",
   "metadata": {},
   "source": [
    "Avant de lancer ce notebook, il faut executer la commande ```pip install -r requirements.txt```"
   ]
  },
  {
   "cell_type": "code",
   "execution_count": 29,
   "metadata": {},
   "outputs": [
    {
     "name": "stdout",
     "output_type": "stream",
     "text": [
      "Imports réalisés\n"
     ]
    }
   ],
   "source": [
    "%run python/utils.py"
   ]
  },
  {
   "cell_type": "markdown",
   "metadata": {},
   "source": [
    "### Contexte\n",
    "Ce projet a pour but d'utiliser Neo4j pour étudier des graphes.\n",
    "Nous avons choisi d'utiliser les données de [spotify](https://zenodo.org/record/2594557#.XeYt25NKhqO).\n",
    "\n",
    "Ces données représentent les interractions entre les utilisateurs, les chansons, les playlists et les artistes. Les chansons et artistes sont majoritairement du genre rock.\n",
    "\n",
    "Une partie des données est présentées ci-dessous."
   ]
  },
  {
   "cell_type": "code",
   "execution_count": 7,
   "metadata": {},
   "outputs": [
    {
     "data": {
      "text/html": [
       "<div>\n",
       "<style scoped>\n",
       "    .dataframe tbody tr th:only-of-type {\n",
       "        vertical-align: middle;\n",
       "    }\n",
       "\n",
       "    .dataframe tbody tr th {\n",
       "        vertical-align: top;\n",
       "    }\n",
       "\n",
       "    .dataframe thead th {\n",
       "        text-align: right;\n",
       "    }\n",
       "</style>\n",
       "<table border=\"1\" class=\"dataframe\">\n",
       "  <thead>\n",
       "    <tr style=\"text-align: right;\">\n",
       "      <th></th>\n",
       "      <th>user_id</th>\n",
       "      <th>artist_name</th>\n",
       "      <th>track_name</th>\n",
       "      <th>playlist_name</th>\n",
       "    </tr>\n",
       "  </thead>\n",
       "  <tbody>\n",
       "    <tr>\n",
       "      <th>0</th>\n",
       "      <td>9cc0cfd4d7d7885102480dd99e7a90d6</td>\n",
       "      <td>Elvis Costello</td>\n",
       "      <td>(The Angels Wanna Wear My) Red Shoes</td>\n",
       "      <td>HARD ROCK 2010</td>\n",
       "    </tr>\n",
       "    <tr>\n",
       "      <th>1</th>\n",
       "      <td>9cc0cfd4d7d7885102480dd99e7a90d6</td>\n",
       "      <td>Elvis Costello &amp; The Attractions</td>\n",
       "      <td>(What's So Funny 'Bout) Peace, Love And Unders...</td>\n",
       "      <td>HARD ROCK 2010</td>\n",
       "    </tr>\n",
       "    <tr>\n",
       "      <th>2</th>\n",
       "      <td>9cc0cfd4d7d7885102480dd99e7a90d6</td>\n",
       "      <td>Tiffany Page</td>\n",
       "      <td>7 Years Too Late</td>\n",
       "      <td>HARD ROCK 2010</td>\n",
       "    </tr>\n",
       "  </tbody>\n",
       "</table>\n",
       "</div>"
      ],
      "text/plain": [
       "                            user_id                       artist_name  \\\n",
       "0  9cc0cfd4d7d7885102480dd99e7a90d6                    Elvis Costello   \n",
       "1  9cc0cfd4d7d7885102480dd99e7a90d6  Elvis Costello & The Attractions   \n",
       "2  9cc0cfd4d7d7885102480dd99e7a90d6                      Tiffany Page   \n",
       "\n",
       "                                          track_name   playlist_name  \n",
       "0               (The Angels Wanna Wear My) Red Shoes  HARD ROCK 2010  \n",
       "1  (What's So Funny 'Bout) Peace, Love And Unders...  HARD ROCK 2010  \n",
       "2                                   7 Years Too Late  HARD ROCK 2010  "
      ]
     },
     "execution_count": 7,
     "metadata": {},
     "output_type": "execute_result"
    }
   ],
   "source": [
    "readHead(\"data/base.csv\")"
   ]
  },
  {
   "cell_type": "markdown",
   "metadata": {},
   "source": [
    "Nous avons enrichi ces données à l'aide de l'API de spotify. Nous avons rajouté pour chaque artiste les artistes liés, la popularité, leurs genres musicaux.\n",
    "\n",
    "Un extrait du fichier obtenu est présenté ci-dessous."
   ]
  },
  {
   "cell_type": "code",
   "execution_count": 8,
   "metadata": {},
   "outputs": [
    {
     "data": {
      "text/html": [
       "<div>\n",
       "<style scoped>\n",
       "    .dataframe tbody tr th:only-of-type {\n",
       "        vertical-align: middle;\n",
       "    }\n",
       "\n",
       "    .dataframe tbody tr th {\n",
       "        vertical-align: top;\n",
       "    }\n",
       "\n",
       "    .dataframe thead th {\n",
       "        text-align: right;\n",
       "    }\n",
       "</style>\n",
       "<table border=\"1\" class=\"dataframe\">\n",
       "  <thead>\n",
       "    <tr style=\"text-align: right;\">\n",
       "      <th></th>\n",
       "      <th>artist_name</th>\n",
       "      <th>artist_id</th>\n",
       "      <th>genres</th>\n",
       "      <th>popularity</th>\n",
       "      <th>related</th>\n",
       "    </tr>\n",
       "  </thead>\n",
       "  <tbody>\n",
       "    <tr>\n",
       "      <th>0</th>\n",
       "      <td>Elvis Costello</td>\n",
       "      <td>2BGRfQgtzikz1pzAD0kaEn</td>\n",
       "      <td>['art rock', 'dance rock', 'folk', 'folk rock'...</td>\n",
       "      <td>60.0</td>\n",
       "      <td>['Elvis Costello &amp; The Attractions', 'Squeeze'...</td>\n",
       "    </tr>\n",
       "    <tr>\n",
       "      <th>1</th>\n",
       "      <td>Elvis Costello &amp; The Attractions</td>\n",
       "      <td>4qmHkMxr6pTWh5Zo74odpH</td>\n",
       "      <td>['art rock', 'comic', 'dance rock', 'folk rock...</td>\n",
       "      <td>59.0</td>\n",
       "      <td>['Elvis Costello', 'Squeeze', 'Joe Jackson', '...</td>\n",
       "    </tr>\n",
       "    <tr>\n",
       "      <th>2</th>\n",
       "      <td>Tiffany Page</td>\n",
       "      <td>1Q6EgKHZ8mt7Hm5bKa6DbG</td>\n",
       "      <td>[]</td>\n",
       "      <td>4.0</td>\n",
       "      <td>['Heidi Range', 'Alex Roots', 'Hepburn', 'Heav...</td>\n",
       "    </tr>\n",
       "  </tbody>\n",
       "</table>\n",
       "</div>"
      ],
      "text/plain": [
       "                        artist_name               artist_id  \\\n",
       "0                    Elvis Costello  2BGRfQgtzikz1pzAD0kaEn   \n",
       "1  Elvis Costello & The Attractions  4qmHkMxr6pTWh5Zo74odpH   \n",
       "2                      Tiffany Page  1Q6EgKHZ8mt7Hm5bKa6DbG   \n",
       "\n",
       "                                              genres  popularity  \\\n",
       "0  ['art rock', 'dance rock', 'folk', 'folk rock'...        60.0   \n",
       "1  ['art rock', 'comic', 'dance rock', 'folk rock...        59.0   \n",
       "2                                                 []         4.0   \n",
       "\n",
       "                                             related  \n",
       "0  ['Elvis Costello & The Attractions', 'Squeeze'...  \n",
       "1  ['Elvis Costello', 'Squeeze', 'Joe Jackson', '...  \n",
       "2  ['Heidi Range', 'Alex Roots', 'Hepburn', 'Heav...  "
      ]
     },
     "execution_count": 8,
     "metadata": {},
     "output_type": "execute_result"
    }
   ],
   "source": [
    "readHead(\"data/artists.csv\")"
   ]
  },
  {
   "cell_type": "markdown",
   "metadata": {},
   "source": [
    "Enfin, nous avons complété nos données à l'aide des données des concerts pour les artistes. Ces données ont été obtenue à l'aide du site [concertarchive](https://www.concertarchives.org/).\n",
    "\n",
    "Une partie de ces données est présentée ci-dessous"
   ]
  },
  {
   "cell_type": "code",
   "execution_count": 9,
   "metadata": {},
   "outputs": [
    {
     "data": {
      "text/html": [
       "<div>\n",
       "<style scoped>\n",
       "    .dataframe tbody tr th:only-of-type {\n",
       "        vertical-align: middle;\n",
       "    }\n",
       "\n",
       "    .dataframe tbody tr th {\n",
       "        vertical-align: top;\n",
       "    }\n",
       "\n",
       "    .dataframe thead th {\n",
       "        text-align: right;\n",
       "    }\n",
       "</style>\n",
       "<table border=\"1\" class=\"dataframe\">\n",
       "  <thead>\n",
       "    <tr style=\"text-align: right;\">\n",
       "      <th></th>\n",
       "      <th>id</th>\n",
       "      <th>artist</th>\n",
       "      <th>date</th>\n",
       "      <th>nom_concert</th>\n",
       "      <th>endroit</th>\n",
       "      <th>ville</th>\n",
       "    </tr>\n",
       "  </thead>\n",
       "  <tbody>\n",
       "    <tr>\n",
       "      <th>0</th>\n",
       "      <td>0</td>\n",
       "      <td>Elvis Costello</td>\n",
       "      <td>Mar 08, 2014</td>\n",
       "      <td>Elvis Costello / Elvis Costello &amp; The Imposters</td>\n",
       "      <td>Caesar's Atlantic City</td>\n",
       "      <td>Atlantic City, NJ</td>\n",
       "    </tr>\n",
       "    <tr>\n",
       "      <th>1</th>\n",
       "      <td>1</td>\n",
       "      <td>Elvis Costello</td>\n",
       "      <td>Jul 06, 2003</td>\n",
       "      <td>Elvis Costello &amp; The Imposters / Imposters / E...</td>\n",
       "      <td>Taste of Chicago</td>\n",
       "      <td>Chicago, IL</td>\n",
       "    </tr>\n",
       "    <tr>\n",
       "      <th>2</th>\n",
       "      <td>2</td>\n",
       "      <td>Elvis Costello</td>\n",
       "      <td>Nov 10, 2019</td>\n",
       "      <td>Elvis Costello &amp; The Imposters / Elvis Costell...</td>\n",
       "      <td>The Mahaffey Theater</td>\n",
       "      <td>St Petersburg, FL</td>\n",
       "    </tr>\n",
       "  </tbody>\n",
       "</table>\n",
       "</div>"
      ],
      "text/plain": [
       "   id          artist          date  \\\n",
       "0   0  Elvis Costello  Mar 08, 2014   \n",
       "1   1  Elvis Costello  Jul 06, 2003   \n",
       "2   2  Elvis Costello  Nov 10, 2019   \n",
       "\n",
       "                                         nom_concert                 endroit  \\\n",
       "0    Elvis Costello / Elvis Costello & The Imposters  Caesar's Atlantic City   \n",
       "1  Elvis Costello & The Imposters / Imposters / E...        Taste of Chicago   \n",
       "2  Elvis Costello & The Imposters / Elvis Costell...    The Mahaffey Theater   \n",
       "\n",
       "               ville  \n",
       "0  Atlantic City, NJ  \n",
       "1        Chicago, IL  \n",
       "2  St Petersburg, FL  "
      ]
     },
     "execution_count": 9,
     "metadata": {},
     "output_type": "execute_result"
    }
   ],
   "source": [
    "readHead(\"data/concerts.csv\", delimiter=\"|\")"
   ]
  },
  {
   "cell_type": "markdown",
   "metadata": {},
   "source": [
    "Au final, nous obtenons le schéma ci-dessous\n",
    "\n",
    "![](./images/NeoModel.png)"
   ]
  },
  {
   "cell_type": "markdown",
   "metadata": {},
   "source": [
    "## 1. Imports des données"
   ]
  },
  {
   "cell_type": "markdown",
   "metadata": {},
   "source": [
    "### Connexion à la base de données\n",
    "\n",
    "Les informations de connexion à la base de données peuvent être changées au besoin."
   ]
  },
  {
   "cell_type": "code",
   "execution_count": 10,
   "metadata": {},
   "outputs": [],
   "source": [
    "DB_URI = \"bolt://localhost:7687\"\n",
    "DB_USER = \"neo4j\"\n",
    "DB_PASSWORD = \"password\"\n",
    "driver = GraphDatabase.driver(DB_URI, auth=(DB_USER, DB_PASSWORD))"
   ]
  },
  {
   "cell_type": "markdown",
   "metadata": {},
   "source": [
    "### Définition de la structure de la base\n",
    "\n",
    "Nous créons des contraintes sur tous les objets, sauf sur concert, tous les attributs sont importants pour les concerts"
   ]
  },
  {
   "cell_type": "code",
   "execution_count": 6,
   "metadata": {},
   "outputs": [],
   "source": [
    "CONSTRAINTS=[\n",
    "    # On vérifie que l'ID utilisateur est unique\n",
    "    \"CREATE CONSTRAINT ON (u:User) ASSERT u.id IS UNIQUE;\",\n",
    "    # On vérifie que le nom du son est unique\n",
    "    \"CREATE CONSTRAINT ON (s:Song) ASSERT s.track_name IS UNIQUE;\",\n",
    "    # On vérifie que le nom de l'artiste est unique\n",
    "    \"CREATE CONSTRAINT ON (a:Artist) ASSERT a.artist_name IS UNIQUE;\", \n",
    "    # On vérifie que le nom de la playlist est unique\n",
    "    \"CREATE CONSTRAINT ON (p:Playlist) ASSERT p.playlist_name IS UNIQUE; \",\n",
    "    # On vérifie que le nom du genre est unique\n",
    "    \"CREATE CONSTRAINT ON (g:Genre) ASSERT g.genre_name IS UNIQUE;\",\n",
    "    # On vérifie qu'il n'y a pas 2 concerts qui portent le même nom le même jour\n",
    "    \"CREATE CONSTRAINT ON (c:Concert) ASSERT (c.date, c.nom_concert) IS NODE KEY\",\n",
    "    # On vérifie que le nom de la ville est unique\n",
    "    \"CREATE CONSTRAINT ON (v:Ville) ASSERT v.ville_name IS UNIQUE;\"\n",
    "]\n",
    "with driver.session() as session:\n",
    "    for constraint in CONSTRAINTS:\n",
    "        session.run(constraint)"
   ]
  },
  {
   "cell_type": "markdown",
   "metadata": {},
   "source": [
    "### Import des données\n",
    "\n",
    "⚠️⚠️⚠️ \n",
    "\n",
    "Les 4 fichiers CSV base, artists, concerts et villes doivent être copiées dans le répértoire 'import' de la base de données Neo4j \n",
    "\n",
    "⚠️⚠️⚠️\n",
    "\n",
    "Import de la base (Temps de traitement long ~8 minutes)"
   ]
  },
  {
   "cell_type": "code",
   "execution_count": 8,
   "metadata": {},
   "outputs": [],
   "source": [
    "REQUETE = \"\"\"\n",
    "// Import file base.csv\n",
    "USING PERIODIC COMMIT 1000\n",
    "LOAD CSV WITH HEADERS FROM 'file:///base.csv'\n",
    " \tAS ligne FIELDTERMINATOR ';'\n",
    "\n",
    "    // If there is a track name\n",
    "    FOREACH(ignoreMe IN CASE WHEN ligne.track_name <> '' THEN [1] ELSE [] END |\n",
    "        MERGE (u:User {id: ligne.user_id})\n",
    "        MERGE (s:Song {track_name: ligne.track_name})\n",
    "        MERGE (a:Artist {artist_name: ligne.artist_name})\n",
    "        // If there is a playlist name\n",
    "        FOREACH(ignoreMe IN CASE WHEN ligne.playlist_name <> '' THEN [1] ELSE [] END |\n",
    "            MERGE (p:Playlist {playlist_name: ligne.playlist_name})\n",
    "            MERGE (p)-[:CONTAINS]->(s)\n",
    "        )\n",
    "        MERGE (u)-[:LISTEN_TO]->(s)\n",
    "        MERGE (a)-[:PLAYS]->(s)\n",
    "    )\n",
    "\n",
    "\"\"\"\n",
    "with driver.session() as session:\n",
    "    session.run(REQUETE)"
   ]
  },
  {
   "cell_type": "markdown",
   "metadata": {},
   "source": [
    "Import des artistes ~1 minutes"
   ]
  },
  {
   "cell_type": "code",
   "execution_count": 9,
   "metadata": {},
   "outputs": [],
   "source": [
    "REQUETE = \"\"\"\n",
    "// Import file artists.csv\n",
    "USING PERIODIC COMMIT 1000\n",
    "LOAD CSV WITH HEADERS FROM 'file:///artists.csv'\n",
    " \tAS ligne FIELDTERMINATOR ';'\n",
    "    \n",
    "    MERGE (a:Artist {artist_name: ligne.artist_name})\n",
    "    SET a.id = ligne.artist_id\n",
    "    SET a.popularity = ligne.popularity\n",
    "    FOREACH(genre IN split(ligne.genres, \"', '\") |\n",
    "        // In order to remove the [' & '] before the lines\n",
    "        MERGE(g:Genre {\n",
    "            genre_name: replace(\n",
    "                replace(genre, \"['\", \"\")\n",
    "            , \"']\", \"\")\n",
    "            })\n",
    "        MERGE (a)-[:PLAYS_GENRE]->(g)\n",
    "    )\n",
    "    FOREACH(relatedArtist IN split(ligne.related, \"', '\") |\n",
    "        // In order to remove the [' & '] before the lines\n",
    "        MERGE(rA:Artist {\n",
    "            artist_name: replace(\n",
    "                replace(relatedArtist, \"['\", \"\")\n",
    "            , \"']\", \"\")\n",
    "            })\n",
    "        MERGE (a)-[:IS_RELATED_TO]->(rA)\n",
    "    )\n",
    "\n",
    "\"\"\"\n",
    "with driver.session() as session:\n",
    "    session.run(REQUETE)"
   ]
  },
  {
   "cell_type": "markdown",
   "metadata": {},
   "source": [
    "Import des concerts ~2 minutes"
   ]
  },
  {
   "cell_type": "code",
   "execution_count": 10,
   "metadata": {},
   "outputs": [],
   "source": [
    "REQUETE = \"\"\"\n",
    "// Import file concerts.csv\n",
    "USING PERIODIC COMMIT 500\n",
    "LOAD CSV WITH HEADERS FROM 'file:///concerts.csv'\n",
    " \tAS ligne FIELDTERMINATOR '|'\n",
    "    \n",
    "    MERGE (a:Artist {artist_name: ligne.artist})\n",
    "\n",
    "    MERGE (c:Concert {\n",
    "        date: ligne.date,\n",
    "        nom_concert: ligne.nom_concert\n",
    "        })\n",
    "    SET c.salle_concert= ligne.endroit\n",
    "    MERGE(v:Ville {ville_name: ligne.ville})\n",
    "    MERGE (a)-[:PLAYS_IN]->(c)\n",
    "    MERGE (c)-[:IS_IN]->(v)\n",
    "\"\"\"\n",
    "with driver.session() as session:\n",
    "    session.run(REQUETE)"
   ]
  },
  {
   "cell_type": "markdown",
   "metadata": {},
   "source": [
    "On importe ensuite les informations des villes. Ces informations ont été récupérées à l'aide de l'API google maps"
   ]
  },
  {
   "cell_type": "code",
   "execution_count": 14,
   "metadata": {},
   "outputs": [],
   "source": [
    "REQUETE = \"\"\"\n",
    "// Import file villes.csv\n",
    "USING PERIODIC COMMIT 500\n",
    "LOAD CSV WITH HEADERS FROM 'file:///villes.csv'\n",
    " \tAS ligne FIELDTERMINATOR '|'\n",
    "    FOREACH(ignoreMe IN CASE WHEN ligne.ville <> '' THEN [1] ELSE [] END |\n",
    "\n",
    "        MERGE (v:Ville {ville_name: ligne.ville})\n",
    "        SET v.lat = ligne.lat\n",
    "        SET v.lng = ligne.lng\n",
    "    )\n",
    "\"\"\"\n",
    "with driver.session() as session:\n",
    "    session.run(REQUETE)"
   ]
  },
  {
   "cell_type": "markdown",
   "metadata": {},
   "source": [
    "## 2. Requetes\n",
    "### 2.1 - PageRank\n",
    "\n",
    "⚠️⚠️⚠️ Nécessite d'avoir installé le plugin [GRAPH ALGORITHMS](https://neo4j.com/developer/graph-algorithms/) ⚠️⚠️⚠️\n",
    "Ce plugin peut être installé depuis neo4jDesktop\n",
    "\n",
    "La requête ci-dessous calcule le page rang pour chaque artiste"
   ]
  },
  {
   "cell_type": "code",
   "execution_count": 13,
   "metadata": {},
   "outputs": [
    {
     "name": "stdout",
     "output_type": "stream",
     "text": [
      "Artiste                                  Score                         \n",
      "Michael Kamen                               5.013795362471136\n",
      "John Ottman                                 4.996194266970271\n",
      "[]                                         4.6904644961235595\n",
      "Harald Kloser                               4.497847101109803\n",
      "The Pigeon Detectives                        4.40809383730375\n",
      "Marco Beltrami                              4.282494479586604\n",
      "The Rifles                                  3.991114863933762\n",
      "Randy Edelman                              3.7172479606233533\n",
      "Submersed                                  3.6457826531841415\n",
      "Ilan Eshkeri                               3.5777379637584086\n"
     ]
    }
   ],
   "source": [
    "REQUETE = \"\"\"\n",
    "CALL algo.pageRank.stream('Artist', 'IS_RELATED_TO', {iterations:40, dampingFactor:0.85})\n",
    "YIELD nodeId, score\n",
    "\n",
    "RETURN algo.asNode(nodeId).artist_name AS Artist,score\n",
    "ORDER BY score DESC\n",
    "LIMIT 10\n",
    "\"\"\"\n",
    "print(\"{0:40} {1:30}\".format(\"Artiste\",\"Score\"))\n",
    "with driver.session() as session:\n",
    "    for record in session.run(REQUETE):\n",
    "        print(\"{0:30} {1:30}\".format(record['Artist'],record['score']))"
   ]
  },
  {
   "cell_type": "markdown",
   "metadata": {},
   "source": [
    "On remarque que les artistes les plus liés aux autres artistes sont Michael Kamen et John Ottman.\n",
    "L'artiste \"\\[\\]\" indique les artistes qui ne pointent sur aucun autre artiste.\n",
    "\n",
    "On remarque également que le pageRank n'est pas une mesure efficace de la popularité d'un artiste. Après étude, nous avons remarqué que les graphes représentants les artistes liés sont cycliques, avec un nombre faibles de noeuds (~30). Seule la taille du cycle compte pour le pageRank.\n",
    "\n",
    "Le pageRank étant une information importante, on décide de la sauvegarder dans le champ artiste. Pour ce faire, on execute la requete ci-dessous."
   ]
  },
  {
   "cell_type": "code",
   "execution_count": 44,
   "metadata": {},
   "outputs": [
    {
     "name": "stdout",
     "output_type": "stream",
     "text": [
      "<Record nodes=13715 iterations=40 loadMillis=53 computeMillis=52 writeMillis=6 dampingFactor=0.85 write=True writeProperty='pagerank'>\n"
     ]
    }
   ],
   "source": [
    "REQUETE = \"\"\"\n",
    "CALL algo.pageRank('Artist', 'IS_RELATED_TO',\n",
    "  {iterations:40, dampingFactor:0.85, write: true,writeProperty:\"pagerank\"})\n",
    "YIELD nodes, iterations, loadMillis, computeMillis, writeMillis, dampingFactor, write, writeProperty\n",
    "\"\"\"\n",
    "with driver.session() as session:\n",
    "    for record in session.run(REQUETE):\n",
    "         print(record)"
   ]
  },
  {
   "cell_type": "markdown",
   "metadata": {},
   "source": [
    "### 2.2 Les playlists les plus écoutées\n",
    "On récupère les 10 playlist les plus écoutées.\n",
    "Le traitement un peu long (~30 secondes)"
   ]
  },
  {
   "cell_type": "code",
   "execution_count": 105,
   "metadata": {},
   "outputs": [
    {
     "name": "stdout",
     "output_type": "stream",
     "text": [
      "Starred                                                700911\n",
      "Liked from Radio                                       348844\n",
      "Favoritas de la radio                                  186597\n",
      "Everything at once                                     145865\n",
      "Rock                                                   142998\n",
      "Spotify Library                                        105257\n",
      "Rich's iPhone                                           97709\n",
      "All Live Files                                          95662\n",
      "dicos varios                                            94305\n",
      "Indie                                                   83164\n"
     ]
    },
    {
     "data": {
      "image/png": "[encoded data removed]",
      "text/plain": [
       "<Figure size 432x288 with 1 Axes>"
      ]
     },
     "metadata": {
      "needs_background": "light"
     },
     "output_type": "display_data"
    }
   ],
   "source": [
    "REQUETE = \"\"\"\n",
    "// The 30 most listened playlist with the number of plays\n",
    "MATCH(u:User)-[:LISTEN_TO]->(s:Song)<-[:CONTAINS]-(p:Playlist)\n",
    "WITH p, count(u) AS popularity\n",
    "RETURN p.playlist_name AS playlist_name, popularity\n",
    "ORDER BY popularity DESC\n",
    "LIMIT 10\n",
    "\"\"\"\n",
    "data=[]\n",
    "with driver.session() as session:\n",
    "    for record in session.run(REQUETE):\n",
    "        print(\"{0:30} {1:30}\".format(record['playlist_name'],record['popularity']))\n",
    "        data.append([record['playlist_name'], record['popularity']])\n",
    "# Un peu de visualisation\n",
    "df = pd.DataFrame.from_records(data, columns=[\"playlist_name\", \"popularity\"])\n",
    "fig = sns.barplot(x = 'popularity', y = 'playlist_name', \n",
    "                  data = df,)"
   ]
  },
  {
   "cell_type": "markdown",
   "metadata": {},
   "source": [
    "### 2.3 Les genres les plus écoutés\n",
    "On récupère le nombre d'écoute de chaque genre et on l'enregistre au sein du noeud."
   ]
  },
  {
   "cell_type": "code",
   "execution_count": 109,
   "metadata": {},
   "outputs": [
    {
     "data": {
      "image/png": "[encoded data removed]",
      "text/plain": [
       "<Figure size 432x288 with 1 Axes>"
      ]
     },
     "metadata": {
      "needs_background": "light"
     },
     "output_type": "display_data"
    }
   ],
   "source": [
    "REQUETE = \"\"\"\n",
    "// The 30 most listened playlist with the number of plays\n",
    "MATCH(u:User)-[:LISTEN_TO]->(s:Song)<-[:PLAYS]-(a:Artist)-[:PLAYS_GENRE]->(g:Genre)\n",
    "WITH g, count(u) AS popularity\n",
    "SET g.popularity=popularity\n",
    "RETURN g.genre_name as genre_name, popularity\n",
    "ORDER BY popularity DESC\n",
    "LIMIT 10\n",
    "\"\"\"\n",
    "data=[]\n",
    "with driver.session() as session:\n",
    "    for record in session.run(REQUETE):\n",
    "        data.append([record['genre_name'], record['popularity']])\n",
    "# Un peu de visualisation\n",
    "df = pd.DataFrame.from_records(data, columns=[\"genre_name\", \"popularity\"])\n",
    "squarify.plot(sizes=df['popularity'], label=df['genre_name'], alpha=.8 )\n",
    "plt.axis('off')\n",
    "plt.show()"
   ]
  },
  {
   "cell_type": "markdown",
   "metadata": {},
   "source": [
    "### La localisation géographique des concerts d'un utilisateur"
   ]
  },
  {
   "cell_type": "code",
   "execution_count": 27,
   "metadata": {},
   "outputs": [
    {
     "data": {
      "text/html": [
       "<div>\n",
       "<style scoped>\n",
       "    .dataframe tbody tr th:only-of-type {\n",
       "        vertical-align: middle;\n",
       "    }\n",
       "\n",
       "    .dataframe tbody tr th {\n",
       "        vertical-align: top;\n",
       "    }\n",
       "\n",
       "    .dataframe thead th {\n",
       "        text-align: right;\n",
       "    }\n",
       "</style>\n",
       "<table border=\"1\" class=\"dataframe\">\n",
       "  <thead>\n",
       "    <tr style=\"text-align: right;\">\n",
       "      <th></th>\n",
       "      <th>ville</th>\n",
       "      <th>lat</th>\n",
       "      <th>lng</th>\n",
       "      <th>compte</th>\n",
       "    </tr>\n",
       "  </thead>\n",
       "  <tbody>\n",
       "    <tr>\n",
       "      <th>0</th>\n",
       "      <td>New York, NY</td>\n",
       "      <td>40.7127753</td>\n",
       "      <td>-74.0059728</td>\n",
       "      <td>9</td>\n",
       "    </tr>\n",
       "    <tr>\n",
       "      <th>1</th>\n",
       "      <td>Hamburg, DE</td>\n",
       "      <td>53.5510846</td>\n",
       "      <td>9.9936819</td>\n",
       "      <td>1</td>\n",
       "    </tr>\n",
       "    <tr>\n",
       "      <th>2</th>\n",
       "      <td>Gent, BE</td>\n",
       "      <td>51.0543422</td>\n",
       "      <td>3.7174243</td>\n",
       "      <td>1</td>\n",
       "    </tr>\n",
       "    <tr>\n",
       "      <th>3</th>\n",
       "      <td>Brisbane Australia</td>\n",
       "      <td>-27.4697707</td>\n",
       "      <td>153.0251235</td>\n",
       "      <td>3</td>\n",
       "    </tr>\n",
       "    <tr>\n",
       "      <th>4</th>\n",
       "      <td>Melbourne, VIC</td>\n",
       "      <td>-37.8136276</td>\n",
       "      <td>144.9630576</td>\n",
       "      <td>7</td>\n",
       "    </tr>\n",
       "  </tbody>\n",
       "</table>\n",
       "</div>"
      ],
      "text/plain": [
       "                 ville          lat          lng  compte\n",
       "0         New York, NY   40.7127753  -74.0059728       9\n",
       "1          Hamburg, DE   53.5510846    9.9936819       1\n",
       "2             Gent, BE   51.0543422    3.7174243       1\n",
       "3  Brisbane Australia   -27.4697707  153.0251235       3\n",
       "4       Melbourne, VIC  -37.8136276  144.9630576       7"
      ]
     },
     "execution_count": 27,
     "metadata": {},
     "output_type": "execute_result"
    }
   ],
   "source": [
    "REQUETE = \"\"\"\n",
    "// La localisation des concerts des artistes écoutés par un utilisateur sur l'année 2012\n",
    "MATCH (u:User)-[:LISTEN_TO]->(s:Song)<-[:PLAYS]-(a:Artist)-[:PLAYS_IN]->(c:Concert)-[:IS_IN]->(v:Ville)\n",
    "WHERE u.id=\"9cc0cfd4d7d7885102480dd99e7a90d6\"\n",
    "AND c.date CONTAINS \"2012\"\n",
    "return v.ville_name AS ville,\n",
    "\tv.lat AS lat,\n",
    "    v.lng AS lng,\n",
    "    count(a) AS compte\n",
    "\"\"\"\n",
    "\n",
    "data=[]\n",
    "with driver.session() as session:\n",
    "    for record in session.run(REQUETE):\n",
    "        data.append([record['ville'], record['lat'], record['lng'], record['compte']])\n",
    "df = pd.DataFrame.from_records(data, columns=[\"ville\", \"lat\", \"lng\", \"compte\"])\n",
    "df.head()\n"
   ]
  },
  {
   "cell_type": "markdown",
   "metadata": {},
   "source": [
    "Afin de mieux visualiser les concerts, nous avons intégré une visualisation sur une carte du monde.\n",
    "On se rend compte que cet utilisateur écoute des artistes qui se produisent principalement aux Etats Unis, en Europe et en Australie sur l'année 2012"
   ]
  },
  {
   "cell_type": "code",
   "execution_count": 52,
   "metadata": {},
   "outputs": [
    {
     "name": "stdout",
     "output_type": "stream",
     "text": [
      "                 ville          lat          lng  compte\n",
      "0         New York, NY   40.7127753  -74.0059728       9\n",
      "1          Hamburg, DE   53.5510846    9.9936819       1\n",
      "2             Gent, BE   51.0543422    3.7174243       1\n",
      "3  Brisbane Australia   -27.4697707  153.0251235       3\n",
      "4       Melbourne, VIC  -37.8136276  144.9630576       7\n"
     ]
    },
    {
     "data": {
      "image/png": "[encoded data removed]",
      "text/plain": [
       "<Figure size 432x288 with 1 Axes>"
      ]
     },
     "metadata": {
      "needs_background": "light"
     },
     "output_type": "display_data"
    }
   ],
   "source": [
    "visualiserVilles(df)"
   ]
  },
  {
   "cell_type": "code",
   "execution_count": null,
   "metadata": {},
   "outputs": [],
   "source": []
  }
 ],
 "metadata": {
  "kernelspec": {
   "display_name": "Python 3",
   "language": "python",
   "name": "python3"
  },
  "language_info": {
   "codemirror_mode": {
    "name": "ipython",
    "version": 3
   },
   "file_extension": ".py",
   "mimetype": "text/x-python",
   "name": "python",
   "nbconvert_exporter": "python",
   "pygments_lexer": "ipython3",
   "version": "3.6.9"
  }
 },
 "nbformat": 4,
 "nbformat_minor": 4
}
